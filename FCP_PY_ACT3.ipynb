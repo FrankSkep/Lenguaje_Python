{
  "cells": [
    {
      "cell_type": "markdown",
      "metadata": {
        "id": "AS-RECidW-1P"
      },
      "source": [
        "# <div align=\"center\"> Lenguaje de programacion Python </div>\n",
        "<h4 align=\"center\">Actividad 3 - Control de flujo</h4>\n",
        "<h4 align=\"center\">Cornejo Pacheco Francisco - 375037</h4>\n",
        "<h4 align=\"center\">Profesor Pedro Nuñez Yepiz</h4>\n",
        "<h4 align=\"center\">01 - Septiembre - 2024</h4>"
      ]
    },
    {
      "cell_type": "markdown",
      "metadata": {
        "id": "MLBA1dBOXIlO"
      },
      "source": [
        "## Ejercicio 1\n",
        "Algoritmo que lea 3 calificaciones calcule el promedio del alumno y desplegar"
      ]
    },
    {
      "cell_type": "code",
      "execution_count": null,
      "metadata": {
        "colab": {
          "base_uri": "https://localhost:8080/"
        },
        "id": "6Flpp8ipXQ0X",
        "outputId": "81740754-7ae2-4431-e450-99e798cb9a2c"
      },
      "outputs": [
        {
          "name": "stdout",
          "output_type": "stream",
          "text": [
            "Ingresa calificacion 1: 87\n",
            "Ingresa calificacion 2: 21\n",
            "Ingresa calificacion 3: 34\n",
            "Extraordinario\n"
          ]
        }
      ],
      "source": [
        "N_CALIF = 3\n",
        "calif1, calif2, calif3, prom = 0, 0, 0, 0\n",
        "8\n",
        "calif1 = float(input(\"Ingresa calificacion 1: \"))\n",
        "calif2 = float(input(\"Ingresa calificacion 2: \"))\n",
        "calif3 = float(input(\"Ingresa calificacion 3: \"))\n",
        "\n",
        "prom = (calif1 + calif2 + calif3) / N_CALIF\n",
        "\n",
        "if prom >= 80:\n",
        "    if prom >= 98:\n",
        "        if prom <= 100:\n",
        "            print(\"Excelente\")\n",
        "        else:\n",
        "            print(\"Error en promedio.\")\n",
        "    else:\n",
        "        if prom < 90:\n",
        "            print(\"Bien\")\n",
        "        else:\n",
        "            print(\"Muy bien\")\n",
        "else:\n",
        "    if prom >= 60:\n",
        "        if prom < 70:\n",
        "            print(\"Suficiente\")\n",
        "        else:\n",
        "            print(\"Regular\")\n",
        "    else:\n",
        "        if prom >= 30:\n",
        "            print(\"Extraordinario\")\n",
        "        else:\n",
        "            print(\"Repetir\")\n"
      ]
    },
    {
      "cell_type": "markdown",
      "metadata": {
        "id": "K9P8Y04FXUYm"
      },
      "source": [
        "## Ejercicio 2\n",
        "Algoritmo que sirva para calcular el salario semanal de un trabajador donde se obtiene como dato de\n",
        "entrada las horas semanales trabajadas, el salario por hora.\n",
        "El programa deberá calcular el salario normal, salario extra y salario total."
      ]
    },
    {
      "cell_type": "code",
      "execution_count": 1,
      "metadata": {
        "colab": {
          "base_uri": "https://localhost:8080/"
        },
        "id": "hU2AF_HqXWSv",
        "outputId": "f69ba8a3-7be4-4909-dd24-f51ac06b77bd"
      },
      "outputs": [
        {
          "output_type": "stream",
          "name": "stdout",
          "text": [
            "Ingresa horas trabajadas (SEMANA): 52\n",
            "Ingresa salario (HORA): 120\n",
            "+-- Resultados --+\n",
            "-> Salario por hora: 120.0\n",
            "-> Horas trabajadas: 52\n",
            "-> Salario normal:  4800.0\n",
            "-> Salario extra: 3240.0\n",
            "-> Salario total: 8040.0\n"
          ]
        }
      ],
      "source": [
        "# Constantes\n",
        "JORNADA_NORMAL = 40\n",
        "H_DOBLE_RANGO = 9\n",
        "\n",
        "# Variables necesarias\n",
        "horas_trabajadas, horas_extra = None, None\n",
        "salario_hora, salario_extra, salario_normal, salario_total = 0, 0, 0, 0\n",
        "\n",
        "# Entrada\n",
        "horas_trabajadas = int(input(\"Ingresa horas trabajadas (SEMANA): \"))\n",
        "salario_hora = float(input(\"Ingresa salario (HORA): \"))\n",
        "\n",
        "if horas_trabajadas <= JORNADA_NORMAL:\n",
        "    salario_normal = horas_trabajadas * salario_hora\n",
        "else:\n",
        "    salario_normal = JORNADA_NORMAL * salario_hora\n",
        "    horas_extra = horas_trabajadas - JORNADA_NORMAL\n",
        "    salario_extra = horas_extra * (salario_hora * 2)\n",
        "\n",
        "    if horas_extra > H_DOBLE_RANGO:\n",
        "        salario_extra = H_DOBLE_RANGO * (salario_hora * 2)\n",
        "        salario_extra += (horas_extra - H_DOBLE_RANGO) * (salario_hora * 3)\n",
        "\n",
        "salario_total = salario_normal + salario_extra\n",
        "print(\"+-- Resultados --+\")\n",
        "print(f\"-> Salario por hora: {salario_hora}\")\n",
        "print(f\"-> Horas trabajadas: {horas_trabajadas}\")\n",
        "print(f\"-> Salario normal: \", salario_normal)\n",
        "print(f\"-> Salario extra: {salario_extra}\")\n",
        "print(f\"-> Salario total: {salario_total}\")\n"
      ]
    },
    {
      "cell_type": "markdown",
      "metadata": {
        "id": "qe1zlQOCXZ-P"
      },
      "source": [
        "## Ejercicio 3\n",
        "Algoritmo que sirva para desplegar el Total de una llamada telefónica donde se pide como datos de\n",
        "entrada los minutos y el tipo de llamada"
      ]
    },
    {
      "cell_type": "code",
      "execution_count": null,
      "metadata": {
        "colab": {
          "base_uri": "https://localhost:8080/"
        },
        "id": "Bl0esjg8XbUX",
        "outputId": "2ea6b9a8-1412-4d0e-aa5c-c6f52c0978e8"
      },
      "outputs": [
        {
          "name": "stdout",
          "output_type": "stream",
          "text": [
            "Ingrese minutos de la llamada: 52\n",
            "Ingrese tipo de Llamada\n",
            "1. Local\n",
            "2. Nacional\n",
            "3. Internacional\n",
            ": 2\n",
            "> Subtotal: 105.0\n",
            "> IVA: 16.8\n",
            "> Total: 121.8\n"
          ]
        }
      ],
      "source": [
        "# constantes\n",
        "LOCAL = 3.0\n",
        "NACIONAL = 7.0\n",
        "INTL = 9.0\n",
        "IVA = 0.16\n",
        "\n",
        "# entrada\n",
        "minutos = int(input(\"Ingrese minutos de la llamada: \"))\n",
        "tipo_llamada = int(input(\"Ingrese tipo de Llamada\\n1. Local\\n2. Nacional\\n3. Internacional\\n: \"))\n",
        "\n",
        "# variables necesarias\n",
        "subtotal, min_adicionales, total = 0, 0, 0\n",
        "\n",
        "# calculos\n",
        "if tipo_llamada == 1:\n",
        "    subtotal = LOCAL\n",
        "elif tipo_llamada == 2:\n",
        "    subtotal = NACIONAL\n",
        "    if minutos > 3:\n",
        "        min_adicionales = minutos - 3\n",
        "        subtotal += min_adicionales * 2\n",
        "elif tipo_llamada == 3:\n",
        "    subtotal = INTL\n",
        "    if minutos > 2:\n",
        "        min_adicionales = minutos - 2\n",
        "        subtotal += min_adicionales * 4\n",
        "else:\n",
        "    print(\"Opcion no valida.\")\n",
        "\n",
        "# resultado\n",
        "total = subtotal + (subtotal * IVA)\n",
        "print(f\"> Subtotal: {subtotal}\\n> IVA: {subtotal * IVA}\\n> Total: {total}\")\n"
      ]
    },
    {
      "cell_type": "markdown",
      "metadata": {
        "id": "vgA-rHY6Xcz3"
      },
      "source": [
        "## Ejercicio 4\n",
        "Algoritmo que sirva para calcular el Total a pagar por consumo de agua, donde el dato de entrada son\n",
        "los M3 de agua consumidos, Tomar en cuenta que se cobra escalonada"
      ]
    },
    {
      "cell_type": "code",
      "execution_count": null,
      "metadata": {
        "colab": {
          "base_uri": "https://localhost:8080/"
        },
        "id": "3RX76XtBXfAP",
        "outputId": "636a3522-8eb5-4dca-a605-f2fc300680d8"
      },
      "outputs": [
        {
          "name": "stdout",
          "output_type": "stream",
          "text": [
            "Ingrese los M3 de agua consumidos: 43\n",
            "Subtotal: 418\n",
            "Iva: 66.88\n",
            "Total a pagar: 484.88\n"
          ]
        }
      ],
      "source": [
        "# constantes\n",
        "RANGO_1 = 4\n",
        "RANGO_2 = 15\n",
        "RANGO_3 = 50\n",
        "IVA = 0.16\n",
        "\n",
        "m3 = int(input(\"Ingrese los M3 de agua consumidos: \"))\n",
        "\n",
        "# Calcular el subtotal según el rango de consumo\n",
        "if m3 <= RANGO_1:\n",
        "    subtotal = 50\n",
        "elif m3 <= RANGO_2:\n",
        "    subtotal = 50 + (m3 - RANGO_1) * 8\n",
        "elif m3 <= RANGO_3:\n",
        "    subtotal = 50 + (11 * 8) + (m3 - RANGO_2) * 10\n",
        "else:\n",
        "    subtotal = 50 + (11 * 8) + (35 * 10) + (m3 - RANGO_3) * 11\n",
        "\n",
        "print(f\"Subtotal: {subtotal}\")\n",
        "print(f\"Iva: {subtotal * IVA}\")\n",
        "print(f\"Total a pagar: {subtotal + (subtotal * IVA)}\")\n"
      ]
    },
    {
      "cell_type": "markdown",
      "metadata": {
        "id": "elFkZ0DeXl--"
      },
      "source": [
        "## Ejercicio 5\n",
        "En la materia de Metodología de la programación se aplican 5 exámenes, calcular el promedio final de\n",
        "la materia donde la calificación menor de los exámenes se anula y el promedio se calcula en base a 4\n",
        "exámenes.\n",
        "Desplegar el promedio final."
      ]
    },
    {
      "cell_type": "code",
      "execution_count": null,
      "metadata": {
        "colab": {
          "base_uri": "https://localhost:8080/"
        },
        "id": "VW_QJKa6XnXm",
        "outputId": "e072f18d-e457-4329-a006-123edc567504"
      },
      "outputs": [
        {
          "name": "stdout",
          "output_type": "stream",
          "text": [
            "Ingresa calificacion 1: 70\n",
            "Ingresa calificacion 2: 30\n",
            "Ingresa calificacion 3: 40\n",
            "Ingresa calificacion 4: 50\n",
            "Ingresa calificacion 5: 10\n",
            "Calificacion anulada: 10.0\n",
            "Promedio final: 47.50\n"
          ]
        }
      ],
      "source": [
        "ex1, ex2, ex3, ex4, ex5, prom = 0, 0, 0, 0, 0, 0\n",
        "\n",
        "ex1 = float(input(\"Ingresa calificacion 1: \"))\n",
        "ex2 = float(input(\"Ingresa calificacion 2: \"))\n",
        "ex3 = float(input(\"Ingresa calificacion 3: \"))\n",
        "ex4 = float(input(\"Ingresa calificacion 4: \"))\n",
        "ex5 = float(input(\"Ingresa calificacion 5: \"))\n",
        "\n",
        "cal_menor = ex1\n",
        "\n",
        "# Evaluaciones\n",
        "if ex2 < cal_menor:\n",
        "    cal_menor = ex2\n",
        "if ex3 < cal_menor:\n",
        "    cal_menor = ex3\n",
        "if ex4 < cal_menor:\n",
        "    cal_menor = ex4\n",
        "if ex5 < cal_menor:\n",
        "    cal_menor = ex5\n",
        "\n",
        "prom = (ex1 + ex2 + ex3 + ex4 + ex5 - cal_menor) / 4\n",
        "\n",
        "print(f\"Calificacion anulada: {cal_menor}\")\n",
        "\n",
        "print(f\"Promedio final: {prom:.2f}\")\n"
      ]
    },
    {
      "cell_type": "markdown",
      "metadata": {
        "id": "kqV_Zb9AXo4W"
      },
      "source": [
        "## Ejercicio 6\n",
        "Algoritmo que sirva para el juego del CHINCHAMPU (Piedra, Papel, Tijera) para 1 jugador y la\n",
        "computadora, (usar condición anidada)"
      ]
    },
    {
      "cell_type": "code",
      "execution_count": null,
      "metadata": {
        "colab": {
          "base_uri": "https://localhost:8080/"
        },
        "id": "WNfyNYOwXqP-",
        "outputId": "d966a2fc-9e6f-46ad-c1b5-97dab10ab6d5"
      },
      "outputs": [
        {
          "name": "stdout",
          "output_type": "stream",
          "text": [
            "-+ CHINCHAMPU +-\n",
            "OPCIONES : 1) PIEDRA, 2) PAPEL, 3) TIJERA\n",
            "> Ingresa tu opcion: 2\n",
            "(Tu): PAPEL vs (PC): PAPEL\n",
            "* Empate *\n"
          ]
        }
      ],
      "source": [
        "import random\n",
        "\n",
        "# Opciones\n",
        "opciones = {\n",
        "    1: \"PIEDRA\",\n",
        "    2: \"PAPEL\",\n",
        "    3: \"TIJERA\"\n",
        "}\n",
        "\n",
        "opcion_usuario = None\n",
        "opcion_pc = None\n",
        "\n",
        "print(\"-+ CHINCHAMPU +-\")\n",
        "print(\"OPCIONES : 1) PIEDRA, 2) PAPEL, 3) TIJERA\")\n",
        "\n",
        "# Obtener opcion del usuario\n",
        "opcion_usuario = int(input(\"> Ingresa tu opcion: \"))\n",
        "if opcion_usuario not in opciones:\n",
        "    print(\"Opcion no valida\")\n",
        "    exit(1)\n",
        "\n",
        "# Obtener opcion del PC\n",
        "opcion_pc = random.randint(1, 3)\n",
        "\n",
        "# Determinacion del resultado\n",
        "print(f\"(Tu): {opciones[opcion_usuario]} vs (PC): {opciones[opcion_pc]}\")\n",
        "\n",
        "if opcion_usuario == opcion_pc:\n",
        "    print(\"* Empate *\")\n",
        "elif opcion_usuario == 1:\n",
        "    if opcion_pc == 2:\n",
        "        print(\"* Perdiste *\")\n",
        "    else:\n",
        "        print(\"* Ganaste *\")\n",
        "elif opcion_usuario == 2:\n",
        "    if opcion_pc == 1:\n",
        "        print(\"* Ganaste *\")\n",
        "    else:\n",
        "        print(\"* Perdiste *\")\n",
        "else:\n",
        "    if opcion_pc == 1:\n",
        "        print(\"* Perdiste *\")\n",
        "    else:\n",
        "        print(\"* Ganaste *\")\n"
      ]
    },
    {
      "cell_type": "markdown",
      "metadata": {
        "id": "1ROedXEgXrre"
      },
      "source": [
        "## Ejercicio 7\n",
        "Algoritmo que sirva para el juego del CHINCHAMPU (Piedra, Papel, Tijera) para 1 jugador y la\n",
        "computadora, (usar selección múltiple)"
      ]
    },
    {
      "cell_type": "code",
      "execution_count": null,
      "metadata": {
        "colab": {
          "base_uri": "https://localhost:8080/"
        },
        "id": "_sLSg0XOXs22",
        "outputId": "9a45e0d7-f802-4a7e-a9d1-9407677e5071"
      },
      "outputs": [
        {
          "name": "stdout",
          "output_type": "stream",
          "text": [
            "-+ CHINCHAMPU +-\n",
            "OPCIONES : 1) PIEDRA, 2) PAPEL, 3) TIJERA\n",
            "> Ingresa tu opcion: 1\n",
            "(Tu): PIEDRA vs (PC): PAPEL\n",
            "* Perdiste *\n"
          ]
        }
      ],
      "source": [
        "import random\n",
        "\n",
        "# Opciones\n",
        "opciones = {\n",
        "    1: \"PIEDRA\",\n",
        "    2: \"PAPEL\",\n",
        "    3: \"TIJERA\"\n",
        "}\n",
        "\n",
        "opcion_usuario = None\n",
        "opcion_pc = None\n",
        "\n",
        "print(\"-+ CHINCHAMPU +-\")\n",
        "print(\"OPCIONES : 1) PIEDRA, 2) PAPEL, 3) TIJERA\")\n",
        "\n",
        "# Obtener opcion del usuario\n",
        "opcion_usuario = int(input(\"> Ingresa tu opcion: \"))\n",
        "if opcion_usuario not in opciones:\n",
        "    print(\"Opcion no valida\")\n",
        "    exit(1)\n",
        "\n",
        "# Obtener opcion del PC\n",
        "opcion_pc = random.randint(1, 3)\n",
        "\n",
        "# Determinacion del resultado\n",
        "print(f\"(Tu): {opciones[opcion_usuario]} vs (PC): {opciones[opcion_pc]}\")\n",
        "\n",
        "match opcion_usuario:\n",
        "    case 1:\n",
        "        if opcion_pc == 1:\n",
        "            print(\"* Empate *\")\n",
        "        elif opcion_pc == 2:\n",
        "            print(\"* Perdiste *\")\n",
        "        else:\n",
        "            print(\"* Ganaste *\")\n",
        "    case 2:\n",
        "        if opcion_pc == 2:\n",
        "            print(\"* Empate *\")\n",
        "        elif opcion_pc == 1:\n",
        "            print(\"* Ganaste *\")\n",
        "        else:\n",
        "            print(\"* Perdiste *\")\n",
        "    case _:\n",
        "        if opcion_pc == 3:\n",
        "            print(\"* Empate *\")\n",
        "        elif opcion_pc == 1:\n",
        "            print(\"* Perdiste *\")\n",
        "        else:\n",
        "            print(\"* Ganaste *\")\n"
      ]
    },
    {
      "cell_type": "markdown",
      "metadata": {
        "id": "LvXAaKqMXucu"
      },
      "source": [
        "## Ejercicio 8\n",
        "Una tienda de electrónica ofrece descuentos a sus clientes, dependiendo del tipo de producto que\n",
        "compren."
      ]
    },
    {
      "cell_type": "code",
      "execution_count": null,
      "metadata": {
        "colab": {
          "base_uri": "https://localhost:8080/"
        },
        "id": "cBOdKSm6XwTO",
        "outputId": "f85383f6-c835-4275-b31b-dd6bfa753050"
      },
      "outputs": [
        {
          "name": "stdout",
          "output_type": "stream",
          "text": [
            "¿Que producto desea agregar al carrito?\n",
            "1.- Computadora\n",
            "2.- Impresora\n",
            "3.- Television\n",
            "4.- Barra de sonido\n",
            "5.- Consola\n",
            "6.- Juego\n",
            "0.- Es todo\n",
            "Opcion: 1\n",
            "Carrito:  ['computadora']\n",
            "¿Que producto desea agregar al carrito?\n",
            "1.- Computadora\n",
            "2.- Impresora\n",
            "3.- Television\n",
            "4.- Barra de sonido\n",
            "5.- Consola\n",
            "6.- Juego\n",
            "0.- Es todo\n",
            "Opcion: 2\n",
            "Carrito:  ['computadora', 'impresora']\n",
            "¿Que producto desea agregar al carrito?\n",
            "1.- Computadora\n",
            "2.- Impresora\n",
            "3.- Television\n",
            "4.- Barra de sonido\n",
            "5.- Consola\n",
            "6.- Juego\n",
            "0.- Es todo\n",
            "Opcion: 0\n",
            "El precio total a pagar es: $1130.00\n"
          ]
        }
      ],
      "source": [
        "# Precios de los productos\n",
        "precios = {\n",
        "    'computadora': 1000,\n",
        "    'impresora': 200,\n",
        "    'television': 800,\n",
        "    'barra_sonido': 150,\n",
        "    'consola': 500,\n",
        "    'juego': 60\n",
        "}\n",
        "\n",
        "# Lista de productos en el carrito\n",
        "carrito = []\n",
        "\n",
        "while (True):\n",
        "    print(\"¿Que producto desea agregar al carrito?\")\n",
        "    print(\"1.- Computadora\")\n",
        "    print(\"2.- Impresora\")\n",
        "    print(\"3.- Television\")\n",
        "    print(\"4.- Barra de sonido\")\n",
        "    print(\"5.- Consola\")\n",
        "    print(\"6.- Juego\")\n",
        "    print(\"0.- Es todo\")\n",
        "    op = int(input(\"Opcion: \"))\n",
        "\n",
        "    if op == 1:\n",
        "      if 'computadora' not in carrito:\n",
        "        carrito.append('computadora')\n",
        "    elif op == 2:\n",
        "      if 'impresora' not in carrito:\n",
        "        carrito.append('impresora')\n",
        "    elif op == 3:\n",
        "      if 'television' not in carrito:\n",
        "        carrito.append('television')\n",
        "    elif op == 4:\n",
        "      if 'barra_sonido' not in carrito:\n",
        "        carrito.append('barra_sonido')\n",
        "    elif op == 5:\n",
        "      if 'consola' not in carrito:\n",
        "        carrito.append('consola')\n",
        "    elif op == 6:\n",
        "      if 'juego' not in carrito:\n",
        "        carrito.append('juego')\n",
        "    if op == 0:\n",
        "        break\n",
        "    print(\"Carrito: \", carrito)\n",
        "\n",
        "# Total a pagar\n",
        "total = 0\n",
        "\n",
        "if 'computadora' in carrito:\n",
        "    total += precios['computadora'] * 0.95\n",
        "    if 'impresora' in carrito:\n",
        "        total += precios['impresora'] * 0.90\n",
        "else:\n",
        "    if 'impresora' in carrito:\n",
        "        total += precios['impresora']\n",
        "\n",
        "if 'television' in carrito:\n",
        "    total += precios['television'] * 0.93\n",
        "    if 'barra_sonido' in carrito:\n",
        "        total += precios['barra_sonido'] * 0.85\n",
        "else:\n",
        "    if 'barra_sonido' in carrito:\n",
        "        total += precios['barra_sonido']\n",
        "\n",
        "if 'consola' in carrito:\n",
        "    total += precios['consola'] * 0.90\n",
        "    if 'juego' in carrito:\n",
        "        total += precios['juego'] * 0.80\n",
        "else:\n",
        "    if 'juego' in carrito:\n",
        "        total += precios['juego']\n",
        "\n",
        "print(f\"El precio total a pagar es: ${total:.2f}\")\n"
      ]
    },
    {
      "cell_type": "markdown",
      "metadata": {
        "id": "fcsA0Io_ZMCN"
      },
      "source": [
        "## Ejercicio 9\n",
        "En una tienda de ropa, los precios de los productos cambian dependiendo de la temporada."
      ]
    },
    {
      "cell_type": "code",
      "execution_count": null,
      "metadata": {
        "colab": {
          "base_uri": "https://localhost:8080/"
        },
        "id": "Oz9UzuyjZOUs",
        "outputId": "d356cf12-491e-4348-fe54-98dcf65a7d73"
      },
      "outputs": [
        {
          "name": "stdout",
          "output_type": "stream",
          "text": [
            "> Ingrese precio del producto: 500\n",
            "> Ingresa temporada (verano, invierno, primavera, otoño): invierno\n",
            "> Ingrese la etiqueta del producto (roja, verde, amarilla) o enter si no tiene etiqueta: verde\n",
            "El precio a pagar es: 425.00\n"
          ]
        }
      ],
      "source": [
        "precio = float(input(\"> Ingrese precio del producto: \"))\n",
        "temporada = input(\"> Ingresa temporada (verano, invierno, primavera, otoño): \").lower()\n",
        "etiqueta = input(\"> Ingrese la etiqueta del producto (roja, verde, amarilla) o enter si no tiene etiqueta: \").lower()\n",
        "descuento = 0\n",
        "\n",
        "if temporada == \"verano\":\n",
        "  descuento = 0.20\n",
        "elif temporada == \"invierno\":\n",
        "  if etiqueta == \"rojo\":\n",
        "    descuento = 0.30\n",
        "  elif etiqueta == \"verde\":\n",
        "    descuento = 0.15\n",
        "elif temporada in [\"primavera\", \"otoño\"]:\n",
        "  if etiqueta == \"amarillo\":\n",
        "    descuento = 0.10\n",
        "\n",
        "precio_final = precio * (1 - descuento)\n",
        "print(f\"El precio a pagar es: {precio_final:.2f}\")"
      ]
    },
    {
      "cell_type": "markdown",
      "metadata": {
        "id": "aILOs-Tkbudq"
      },
      "source": [
        "## Ejercicio 10 - Version escalable\n",
        "Un restaurante ofrece descuentos a sus clientes, dependiendo del día de la semana y del tipo de menú\n",
        "que pidan."
      ]
    },
    {
      "cell_type": "code",
      "execution_count": null,
      "metadata": {
        "colab": {
          "base_uri": "https://localhost:8080/"
        },
        "id": "iBApcsTHbw1q",
        "outputId": "004bdfcb-d802-4e63-d88f-dddb66f13287"
      },
      "outputs": [
        {
          "name": "stdout",
          "output_type": "stream",
          "text": [
            "> Ingrese dia de la semana: lunes\n",
            "> Elija el menu (del dia, infantil, vegetariano, chef): del dia\n",
            "> Ingrese precio: 120\n",
            "Precio total a pagar: 108.00\n"
          ]
        }
      ],
      "source": [
        "descuentos= {\n",
        "    \"lunes\": {\"del dia\": 0.10},\n",
        "    \"martes\": {\"infantil\": 0.20},\n",
        "    \"miercoles\": {\"vegetariano\": 0.15},\n",
        "    \"jueves\": {\"chef\": 0.05},\n",
        "    \"viernes\": {\"dia\", 0.05},\n",
        "    \"sabado\": {},\n",
        "    \"domingo\": {}\n",
        "}\n",
        "\n",
        "descuento = 0\n",
        "dia = input(\"> Ingrese dia de la semana: \").lower()\n",
        "menu = input(\"> Elija el menu (del dia, infantil, vegetariano, chef): \").lower()\n",
        "precio = float(input(\"> Ingrese precio: \"))\n",
        "\n",
        "if dia in descuentos:\n",
        "  if menu in descuentos[dia]:\n",
        "    descuento = descuentos[dia][menu]\n",
        "else:\n",
        "  print(\"Entrada no valida.\")\n",
        "  exit(1)\n",
        "\n",
        "total = precio * (1 - descuento)\n",
        "print(f\"Precio total a pagar: {total:.2f}\")"
      ]
    },
    {
      "cell_type": "markdown",
      "metadata": {
        "id": "Y3-9wVSLg8S2"
      },
      "source": [
        "## Ejercicio 10 - Version basica"
      ]
    },
    {
      "cell_type": "code",
      "execution_count": null,
      "metadata": {
        "colab": {
          "base_uri": "https://localhost:8080/"
        },
        "id": "xOPoEkw5g-zH",
        "outputId": "05143f09-d7cc-42f1-d72e-e38adb86e237"
      },
      "outputs": [
        {
          "name": "stdout",
          "output_type": "stream",
          "text": [
            "> Ingrese dia de la semana: lunes\n",
            "> Elija su menu (del dia, infantil, vegetariano, chef): del dia\n",
            "> Ingrese precio: 120\n",
            "Precio total a pagar: 108.00\n"
          ]
        }
      ],
      "source": [
        "dia = input(\"> Ingrese dia de la semana: \").lower()\n",
        "menu = input(\"> Elija su menu (del dia, infantil, vegetariano, chef): \").lower()\n",
        "precio = float(input(\"> Ingrese precio: \"))\n",
        "\n",
        "descuento = 0\n",
        "\n",
        "if dia == \"lunes\":\n",
        "  if menu == \"del ddia\":\n",
        "    descuento = 0.10\n",
        "elif dia == \"martes\":\n",
        "  if menu == \"infantil\":\n",
        "    descuento = 0.20\n",
        "elif dia == \"miercoles\":\n",
        "  if menu == \"vegetariano\":\n",
        "    descuento = 0.15\n",
        "elif dia == \"jueves\":\n",
        "  if menu == \"chef\":\n",
        "    descuento == 0.05\n",
        "else:\n",
        "  print(\"Entrada no valida.\")\n",
        "  exit(1)\n",
        "\n",
        "precio_a_pagar = precio * (1 - descuento)\n",
        "print(f\"Precio total a pagar: {precio_a_pagar:.2f}\")"
      ]
    }
  ],
  "metadata": {
    "colab": {
      "provenance": []
    },
    "kernelspec": {
      "display_name": "Python 3 (ipykernel)",
      "language": "python",
      "name": "python3"
    },
    "language_info": {
      "codemirror_mode": {
        "name": "ipython",
        "version": 3
      },
      "file_extension": ".py",
      "mimetype": "text/x-python",
      "name": "python",
      "nbconvert_exporter": "python",
      "pygments_lexer": "ipython3",
      "version": "3.12.2"
    }
  },
  "nbformat": 4,
  "nbformat_minor": 0
}