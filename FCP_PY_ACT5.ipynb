{
  "nbformat": 4,
  "nbformat_minor": 0,
  "metadata": {
    "colab": {
      "provenance": []
    },
    "kernelspec": {
      "name": "python3",
      "display_name": "Python 3"
    },
    "language_info": {
      "name": "python"
    }
  },
  "cells": [
    {
      "cell_type": "markdown",
      "source": [
        "\n",
        "# <div align=\"center\"> Lenguaje de programacion Python </div><h4 align=\"center\">Actividad 5 - Listas, Excepciones </h4><h4 align=\"center\">Cornejo Pacheco Francisco - 375037</h4><h4 align=\"center\">Profesor : Pedro Nuñez Yepiz</h4><h4 align=\"center\">24 - Sept - 2024</h4><h4> Repositorio: https://github.com/FrankSkep/Lenguaje_Python </h4>"
      ],
      "metadata": {
        "id": "oIKW82PGz_i2"
      }
    },
    {
      "cell_type": "code",
      "source": [
        "# Verifica que se ingrese un valor numerico, si no se proporciona tipo, sera int\n",
        "def getNum(msg, tipo = int):\n",
        "    while True:\n",
        "      try:\n",
        "        return tipo(input(msg))\n",
        "      except ValueError:\n",
        "        print(f\"Error: Ingresa un numero {tipo.__name__} valido.\")\n",
        "\n",
        "# Verifica que se ingrese un valor numerico de cualquier tipo en un rango\n",
        "def getNumInRange(msg, ri, rf, tipo = int):\n",
        "    while True:\n",
        "        try:\n",
        "            num = tipo(input(msg))\n",
        "            if num >= ri and num <= rf:\n",
        "                return num\n",
        "            else:\n",
        "                print(\"Error: Ingresa un numero dentro del rango.\")\n",
        "        except ValueError:\n",
        "            print(f\"Error: Ingresa un numero {tipo.__name__} valido.\")"
      ],
      "metadata": {
        "id": "4VxP11_s0Bwe"
      },
      "execution_count": null,
      "outputs": []
    },
    {
      "cell_type": "markdown",
      "source": [
        "## Ejercicio 1\n",
        "Función que utilice una lista con los nombres de tus mascotas, o artistas favoritos, (minimo 5, maximo 10) imprimir las cadenas y la cantidad de caracteres de cada cadena."
      ],
      "metadata": {
        "id": "zwxWdC0t1Mzv"
      }
    },
    {
      "cell_type": "code",
      "source": [
        "def impr_lista(lista):\n",
        "    for i in range(len(lista)):\n",
        "        print(f\"[{i}] {lista[i]} -> {len(lista[i])} caracteres\")\n",
        "\n",
        "artistas = [\"Sepultura\", \"Ozzy Osbourne\", \"Pantera\", \"Led Zeppelin\", \"Iron Maiden\",\n",
        "            \"David Bowie\", \"The Police\", \"Slipknot\", \"Decapitated\"]\n",
        "impr_lista(artistas)"
      ],
      "metadata": {
        "colab": {
          "base_uri": "https://localhost:8080/"
        },
        "id": "BV1hhntu181y",
        "outputId": "2ec32fb3-859d-408a-a5db-9cecfa25af9e"
      },
      "execution_count": null,
      "outputs": [
        {
          "output_type": "stream",
          "name": "stdout",
          "text": [
            "[0] Sepultura -> 9 caracteres\n",
            "[1] Ozzy Osbourne -> 13 caracteres\n",
            "[2] Pantera -> 7 caracteres\n",
            "[3] Led Zeppelin -> 12 caracteres\n",
            "[4] Iron Maiden -> 11 caracteres\n",
            "[5] David Bowie -> 11 caracteres\n",
            "[6] The Police -> 10 caracteres\n",
            "[7] Slipknot -> 8 caracteres\n",
            "[8] Decapitated -> 11 caracteres\n"
          ]
        }
      ]
    },
    {
      "cell_type": "markdown",
      "source": [
        "## Ejercicio 2\n",
        "Programa que utilice 2 funciones,\n",
        "● Función que genere y regrese una lista con 10 números aleatorios entre el 30 y 50 (no repetidos). ● Función que reciba una lista , Imprimir la lista (Indice y Valor ) Mandar llamar la función e imprimir toda la lista."
      ],
      "metadata": {
        "id": "y_7F-k229YRZ"
      }
    },
    {
      "cell_type": "code",
      "source": [
        "import random\n",
        "\n",
        "def gen_nums(ri, rf, cantidad):\n",
        "    return random.sample(range(ri, rf), cantidad)\n",
        "\n",
        "def impr_lista(lista):\n",
        "    for i in range(len(lista)):\n",
        "        print(f\"[{i}] -> {lista[i]}\")\n",
        "\n",
        "numeros_aleatorios = gen_nums(30, 50, 10)\n",
        "impr_lista(numeros_aleatorios)"
      ],
      "metadata": {
        "colab": {
          "base_uri": "https://localhost:8080/"
        },
        "id": "tT6XRrsp9AdI",
        "outputId": "ab8f1187-ea8f-48a1-f803-b573334f8648"
      },
      "execution_count": null,
      "outputs": [
        {
          "output_type": "stream",
          "name": "stdout",
          "text": [
            "[0] -> 37\n",
            "[1] -> 49\n",
            "[2] -> 35\n",
            "[3] -> 34\n",
            "[4] -> 41\n",
            "[5] -> 32\n",
            "[6] -> 39\n",
            "[7] -> 45\n",
            "[8] -> 38\n",
            "[9] -> 33\n"
          ]
        }
      ]
    },
    {
      "cell_type": "markdown",
      "source": [
        "## Ejercicio 3\n",
        "Escribe una función que reciba dos listas de números del mismo tamaño y\n",
        "calcule la suma de los elementos correspondientes de cada lista. (regresar una\n",
        "nueva lista), Luego, muestra una lista con los resultados de cada suma. Nota:\n",
        "si las listas no son del mismo tamaño mandar mensaje y utilizar el tamaño de la\n",
        "lista más pequeña)"
      ],
      "metadata": {
        "id": "LkMcyEup-2uT"
      }
    },
    {
      "cell_type": "code",
      "source": [
        "def suma_listas(lista1, lista2):\n",
        "    if len(lista1) != len(lista2):\n",
        "        print(f\"Las listas no son del mismo tamaño, se usara el tamaño de la mas pequeña.\")\n",
        "\n",
        "    longitud = min(len(lista1), len(lista2))\n",
        "    return [lista1[i] + lista2[i] for i in range(longitud)]\n",
        "\n",
        "x = [1, 2, 3, 4, 5, 6, 7]\n",
        "y = [1, 2, 3, 4, 5]\n",
        "print(f\"> Suma = {suma_listas(x, y)}\")"
      ],
      "metadata": {
        "colab": {
          "base_uri": "https://localhost:8080/"
        },
        "id": "-xoodjJx902T",
        "outputId": "cdda0440-44c7-42e6-97f8-6891a4932915"
      },
      "execution_count": null,
      "outputs": [
        {
          "output_type": "stream",
          "name": "stdout",
          "text": [
            "Las listas no son del mismo tamaño, se usara el tamaño de la mas pequeña.\n",
            "> Suma = [2, 4, 6, 8, 10]\n"
          ]
        }
      ]
    },
    {
      "cell_type": "markdown",
      "source": [
        "## Ejercicio 4\n",
        "Escribe una función llamada eliminar_duplicados que reciba una lista como\n",
        "parámetro y elimine los elementos duplicados. El resultado debe ser una nueva\n",
        "lista sin duplicados. Pedir al usuario que ingrese una lista y luego llama a la\n",
        "función eliminar_duplicados para mostrar la lista sin duplicados. (Solo Números\n",
        "enteros, validar)"
      ],
      "metadata": {
        "id": "BDQdtkAhuwhF"
      }
    },
    {
      "cell_type": "code",
      "source": [
        "# Primer metodo\n",
        "def elim_duplicados(lista):\n",
        "    no_duplicados = []\n",
        "    for elemento in lista:\n",
        "        if elemento not in no_duplicados:\n",
        "            no_duplicados.append(elemento)\n",
        "    return no_duplicados\n",
        "\n",
        "# Segundo metodo\n",
        "def elim_duplicados_con_set(lista):\n",
        "    return list(set(lista))\n",
        "\n",
        "def pedir_lista():\n",
        "    lista = []\n",
        "    continuar = 1\n",
        "\n",
        "    while continuar:\n",
        "        num = getNum(f\"Ingresa elemento [{len(lista)}]: \")\n",
        "        lista.append(num)\n",
        "        continuar = getNum(\"1. Continuar | 0. Salir : \")\n",
        "    return lista\n",
        "\n",
        "numeros = pedir_lista()\n",
        "\n",
        "print(f\"> Resultado 1: {elim_duplicados(numeros)}\")\n",
        "print(f\"> Resultado 2: {elim_duplicados_con_set(numeros)}\")"
      ],
      "metadata": {
        "id": "DjDPy2ZdBKpi",
        "colab": {
          "base_uri": "https://localhost:8080/"
        },
        "outputId": "c3a9d0c7-2ec6-40c2-f9b6-39bdf62d42da"
      },
      "execution_count": null,
      "outputs": [
        {
          "output_type": "stream",
          "name": "stdout",
          "text": [
            "Ingresa elemento [0]: 1\n",
            "1. Continuar | 0. Salir : 1\n",
            "Ingresa elemento [1]: 1\n",
            "1. Continuar | 0. Salir : 1\n",
            "Ingresa elemento [2]: 2\n",
            "1. Continuar | 0. Salir : 1\n",
            "Ingresa elemento [3]: 3\n",
            "1. Continuar | 0. Salir : 0\n",
            "> Resultado 1: [1, 2, 3]\n",
            "> Resultado 2: [1, 2, 3]\n"
          ]
        }
      ]
    },
    {
      "cell_type": "markdown",
      "source": [
        "## Ejercicio 5\n",
        "Escribe una función que calcule la media y la mediana de una lista de\n",
        "números enteros.\n",
        "● La media es la suma de todos los elementos y dividido entre la cantidad\n",
        "de elementos\n",
        "● La mediana es el valor que queda en la mitad de la lista cuando se\n",
        "ordena de forma ascendente. Si la lista tiene un número par de\n",
        "elementos, la mediana se calcula como el promedio de los dos valores\n",
        "centrales. Puedes utilizar el método sort() para ordenar la lista y luego\n",
        "calcular la mediana según el tamaño de la lista."
      ],
      "metadata": {
        "id": "U5bKnmra2lM5"
      }
    },
    {
      "cell_type": "code",
      "source": [
        "def calcular_media_mediana(lista):\n",
        "    lista.sort()\n",
        "    media = sum(lista) / len(lista)\n",
        "\n",
        "    longitud = len(lista)\n",
        "    if longitud % 2 == 0:\n",
        "        mediana = (lista[longitud // 2] + lista[longitud // 2 - 1]) / 2\n",
        "    else:\n",
        "        mediana = lista[longitud // 2]\n",
        "    return media, mediana\n",
        "\n",
        "numeros = [4, 3, 6, 5]\n",
        "media, mediana = calcular_media_mediana(numeros)\n",
        "print(f\"Lista: {numeros}\\n> La media es: {media}\\n> La mediana es: {mediana}\")"
      ],
      "metadata": {
        "id": "OXmkGZ73vd4q",
        "colab": {
          "base_uri": "https://localhost:8080/"
        },
        "outputId": "46b256fa-f893-4a16-eb26-04c63beb56c7"
      },
      "execution_count": null,
      "outputs": [
        {
          "output_type": "stream",
          "name": "stdout",
          "text": [
            "Lista: [3, 4, 5, 6]\n",
            "> La media es: 4.5\n",
            "> La mediana es: 4.5\n"
          ]
        }
      ]
    }
  ]
}